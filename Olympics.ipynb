{
 "cells": [
  {
   "cell_type": "code",
   "execution_count": 1,
   "id": "dcd8e3d8-62e8-4484-be95-791f9348a8d0",
   "metadata": {},
   "outputs": [],
   "source": [
    "import findspark\n",
    "findspark.init()"
   ]
  },
  {
   "cell_type": "code",
   "execution_count": 2,
   "id": "7d0d05aa-c00f-43c8-a6db-c3ed9ecbe6bd",
   "metadata": {},
   "outputs": [],
   "source": [
    "from pyspark.sql import SparkSession\n",
    "from pyspark.sql.types import StringType, IntegerType ,FloatType\n",
    "from pyspark.sql.types import StructType, StructField \n",
    "import numpy as np\n",
    "import pandas as pd\n",
    "import matplotlib.pyplot as plt\n",
    "%matplotlib inline"
   ]
  },
  {
   "cell_type": "code",
   "execution_count": 3,
   "id": "63a9ddfb-2769-4c6d-a14a-b1a89d93fe75",
   "metadata": {},
   "outputs": [
    {
     "name": "stderr",
     "output_type": "stream",
     "text": [
      "23/10/31 14:25:33 WARN Utils: Your hostname, SY001 resolves to a loopback address: 127.0.1.1; using 192.168.217.15 instead (on interface eth0)\n",
      "23/10/31 14:25:33 WARN Utils: Set SPARK_LOCAL_IP if you need to bind to another address\n",
      "Setting default log level to \"WARN\".\n",
      "To adjust logging level use sc.setLogLevel(newLevel). For SparkR, use setLogLevel(newLevel).\n",
      "23/10/31 14:25:35 WARN NativeCodeLoader: Unable to load native-hadoop library for your platform... using builtin-java classes where applicable\n"
     ]
    }
   ],
   "source": [
    "spark = SparkSession \\\n",
    "    .builder \\\n",
    "    .appName(\"OlympicsProject\") \\\n",
    "    .getOrCreate()"
   ]
  },
  {
   "cell_type": "code",
   "execution_count": 4,
   "id": "8ce17589-0f9c-4b09-a112-a66f8e05187e",
   "metadata": {
    "tags": []
   },
   "outputs": [
    {
     "data": {
      "text/html": [
       "\n",
       "            <div>\n",
       "                <p><b>SparkSession - in-memory</b></p>\n",
       "                \n",
       "        <div>\n",
       "            <p><b>SparkContext</b></p>\n",
       "\n",
       "            <p><a href=\"http://192.168.217.15:4040\">Spark UI</a></p>\n",
       "\n",
       "            <dl>\n",
       "              <dt>Version</dt>\n",
       "                <dd><code>v3.5.0</code></dd>\n",
       "              <dt>Master</dt>\n",
       "                <dd><code>local[*]</code></dd>\n",
       "              <dt>AppName</dt>\n",
       "                <dd><code>OlympicsProject</code></dd>\n",
       "            </dl>\n",
       "        </div>\n",
       "        \n",
       "            </div>\n",
       "        "
      ],
      "text/plain": [
       "<pyspark.sql.session.SparkSession at 0x7fc1737927d0>"
      ]
     },
     "execution_count": 4,
     "metadata": {},
     "output_type": "execute_result"
    }
   ],
   "source": [
    "spark"
   ]
  },
  {
   "cell_type": "code",
   "execution_count": 5,
   "id": "dc28fc7a-d881-403c-9176-3d44e970589e",
   "metadata": {
    "tags": []
   },
   "outputs": [],
   "source": [
    "spark.conf.set(\"spark.sql.repl.eagerEval.enabled\",True)"
   ]
  },
  {
   "cell_type": "code",
   "execution_count": 6,
   "id": "c0c45681-8b6c-4c8a-a6b7-4675f68274ad",
   "metadata": {},
   "outputs": [],
   "source": [
    "# Creating a list of the schema in the format column_name, data_type of athlete events\n",
    "labels = [\n",
    "     ('ID',IntegerType()),\n",
    "     ('Name',StringType()),\n",
    "     ('Sex',StringType()),\n",
    "     ('Age',IntegerType()),\n",
    "     ('Height',IntegerType()),\n",
    "     ('Weight',FloatType()),\n",
    "     ('Team',StringType()),\n",
    "     ('NOC',StringType()),\n",
    "     ('Games',StringType()),\n",
    "     ('Year',IntegerType()),\n",
    "     ('Season',StringType()),\n",
    "     ('City',StringType()),\n",
    "     ('Sport',StringType()),\n",
    "     ('Event',StringType()),\n",
    "     ('Medal',StringType())\n",
    "]"
   ]
  },
  {
   "cell_type": "code",
   "execution_count": 7,
   "id": "f3ff2d93-b1c4-4bbc-8320-3dde17ac638b",
   "metadata": {},
   "outputs": [],
   "source": [
    "# Creating the schema that will be passed when reading the csv\n",
    "schema = StructType([StructField (x[0], x[1], True) for x in labels])"
   ]
  },
  {
   "cell_type": "code",
   "execution_count": 8,
   "id": "7f279cff-df6f-4029-8dc2-ba2d2bf83768",
   "metadata": {},
   "outputs": [],
   "source": [
    "#loading csv\n",
    "df = spark.read.csv('athlete_events.csv', header=True, sep=\",\", schema=schema)"
   ]
  },
  {
   "cell_type": "markdown",
   "id": "15b81ad7-a25b-4f63-8409-575acc667a26",
   "metadata": {},
   "source": [
    "# Exploratory analysis of data"
   ]
  },
  {
   "cell_type": "code",
   "execution_count": 9,
   "id": "3bf6d47a-4e01-4724-9bdc-39621f72dc6d",
   "metadata": {
    "tags": []
   },
   "outputs": [
    {
     "name": "stdout",
     "output_type": "stream",
     "text": [
      "--------------------- Shape --------------------\n"
     ]
    },
    {
     "name": "stderr",
     "output_type": "stream",
     "text": [
      "                                                                                \r"
     ]
    },
    {
     "name": "stdout",
     "output_type": "stream",
     "text": [
      "(271116, 15)\n",
      "-------------------- Schema ---------------------\n",
      "root\n",
      " |-- ID: integer (nullable = true)\n",
      " |-- Name: string (nullable = true)\n",
      " |-- Sex: string (nullable = true)\n",
      " |-- Age: integer (nullable = true)\n",
      " |-- Height: integer (nullable = true)\n",
      " |-- Weight: float (nullable = true)\n",
      " |-- Team: string (nullable = true)\n",
      " |-- NOC: string (nullable = true)\n",
      " |-- Games: string (nullable = true)\n",
      " |-- Year: integer (nullable = true)\n",
      " |-- Season: string (nullable = true)\n",
      " |-- City: string (nullable = true)\n",
      " |-- Sport: string (nullable = true)\n",
      " |-- Event: string (nullable = true)\n",
      " |-- Medal: string (nullable = true)\n",
      "\n",
      "None\n",
      "----------------- NaN Analysis -----------------\n"
     ]
    },
    {
     "name": "stderr",
     "output_type": "stream",
     "text": [
      "                                                                                \r"
     ]
    },
    {
     "name": "stdout",
     "output_type": "stream",
     "text": [
      "Total Missing Values:\n",
      "+----+------+------+\n",
      "| Age|Height|Weight|\n",
      "+----+------+------+\n",
      "|9474| 60171| 62875|\n",
      "+----+------+------+\n",
      "\n",
      "Ratio:\n",
      "+----------------+------------------+-----------------+\n",
      "|             Age|            Height|           Weight|\n",
      "+----------------+------------------+-----------------+\n",
      "|3.49444518213606|22.193821095029435|23.19118015904631|\n",
      "+----------------+------------------+-----------------+\n",
      "\n"
     ]
    }
   ],
   "source": [
    "from pyspark.sql.functions import isnan, when, count, col\n",
    "\n",
    "def missing_values_analysis(df):\n",
    "    na_columns_ = [c for c in df.columns if df.where(df[c].isNull()).count() > 0]\n",
    "    missing_df = df.select([count(when(isnan(c) | col(c).isNull(), c)).alias(c) for c in na_columns_])\n",
    "    ratio_ = df.select([((count(when(isnan(c) | col(c).isNull(), c))/df.count())*100).alias(c) for c in na_columns_])\n",
    "    return missing_df, ratio_\n",
    "\n",
    "def check_df(df):\n",
    "    print(\"--------------------- Shape --------------------\")\n",
    "    print((df.count(), len(df.columns)))\n",
    "    print(\"-------------------- Schema ---------------------\")\n",
    "    print(df.printSchema())\n",
    "    print(\"----------------- NaN Analysis -----------------\")\n",
    "    missing_df, ratio_ = missing_values_analysis(df)\n",
    "    print(\"Total Missing Values:\")\n",
    "    missing_df.show()\n",
    "    print(\"Ratio:\")\n",
    "    ratio_.show()\n",
    "    \n",
    "check_df(df)"
   ]
  },
  {
   "cell_type": "code",
   "execution_count": 10,
   "id": "3ecd6d88-9eab-415d-8a21-56a90a8dea69",
   "metadata": {},
   "outputs": [
    {
     "data": {
      "text/html": [
       "<table border='1'>\n",
       "<tr><th>ID</th><th>Name</th><th>Sex</th><th>Age</th><th>Height</th><th>Weight</th><th>Team</th><th>NOC</th><th>Games</th><th>Year</th><th>Season</th><th>City</th><th>Sport</th><th>Event</th><th>Medal</th></tr>\n",
       "<tr><td>1</td><td>A Dijiang</td><td>M</td><td>24</td><td>180</td><td>80.0</td><td>China</td><td>CHN</td><td>1992 Summer</td><td>1992</td><td>Summer</td><td>Barcelona</td><td>Basketball</td><td>Basketball Men's ...</td><td>NA</td></tr>\n",
       "<tr><td>2</td><td>A Lamusi</td><td>M</td><td>23</td><td>170</td><td>60.0</td><td>China</td><td>CHN</td><td>2012 Summer</td><td>2012</td><td>Summer</td><td>London</td><td>Judo</td><td>Judo Men's Extra-...</td><td>NA</td></tr>\n",
       "<tr><td>3</td><td>Gunnar Nielsen Aaby</td><td>M</td><td>24</td><td>NULL</td><td>NULL</td><td>Denmark</td><td>DEN</td><td>1920 Summer</td><td>1920</td><td>Summer</td><td>Antwerpen</td><td>Football</td><td>Football Men's Fo...</td><td>NA</td></tr>\n",
       "<tr><td>4</td><td>Edgar Lindenau Aabye</td><td>M</td><td>34</td><td>NULL</td><td>NULL</td><td>Denmark/Sweden</td><td>DEN</td><td>1900 Summer</td><td>1900</td><td>Summer</td><td>Paris</td><td>Tug-Of-War</td><td>Tug-Of-War Men's ...</td><td>Gold</td></tr>\n",
       "<tr><td>5</td><td>Christine Jacoba ...</td><td>F</td><td>21</td><td>185</td><td>82.0</td><td>Netherlands</td><td>NED</td><td>1988 Winter</td><td>1988</td><td>Winter</td><td>Calgary</td><td>Speed Skating</td><td>Speed Skating Wom...</td><td>NA</td></tr>\n",
       "</table>\n"
      ],
      "text/plain": [
       "+---+--------------------+---+---+------+------+--------------+---+-----------+----+------+---------+-------------+--------------------+-----+\n",
       "| ID|                Name|Sex|Age|Height|Weight|          Team|NOC|      Games|Year|Season|     City|        Sport|               Event|Medal|\n",
       "+---+--------------------+---+---+------+------+--------------+---+-----------+----+------+---------+-------------+--------------------+-----+\n",
       "|  1|           A Dijiang|  M| 24|   180|  80.0|         China|CHN|1992 Summer|1992|Summer|Barcelona|   Basketball|Basketball Men's ...|   NA|\n",
       "|  2|            A Lamusi|  M| 23|   170|  60.0|         China|CHN|2012 Summer|2012|Summer|   London|         Judo|Judo Men's Extra-...|   NA|\n",
       "|  3| Gunnar Nielsen Aaby|  M| 24|  NULL|  NULL|       Denmark|DEN|1920 Summer|1920|Summer|Antwerpen|     Football|Football Men's Fo...|   NA|\n",
       "|  4|Edgar Lindenau Aabye|  M| 34|  NULL|  NULL|Denmark/Sweden|DEN|1900 Summer|1900|Summer|    Paris|   Tug-Of-War|Tug-Of-War Men's ...| Gold|\n",
       "|  5|Christine Jacoba ...|  F| 21|   185|  82.0|   Netherlands|NED|1988 Winter|1988|Winter|  Calgary|Speed Skating|Speed Skating Wom...|   NA|\n",
       "+---+--------------------+---+---+------+------+--------------+---+-----------+----+------+---------+-------------+--------------------+-----+"
      ]
     },
     "execution_count": 10,
     "metadata": {},
     "output_type": "execute_result"
    }
   ],
   "source": [
    "df.limit(5)"
   ]
  },
  {
   "cell_type": "markdown",
   "id": "a63936b0-9f4b-4383-bc2f-94f7cafaa1af",
   "metadata": {},
   "source": [
    "# Evolution of femenine and masculine participation along the years for Summer Olympics"
   ]
  },
  {
   "cell_type": "code",
   "execution_count": 11,
   "id": "b79f6fb0-cd92-47a5-88ee-077b3cef76bb",
   "metadata": {},
   "outputs": [],
   "source": [
    "#Segregate summer and winter olympics on different dataframes \n",
    "summerOlympics = df.where(df.Season == 'Summer')\n",
    "winterOlympics = df.where(df.Season == 'Winter')"
   ]
  },
  {
   "cell_type": "code",
   "execution_count": 12,
   "id": "f6faadc6-48b9-4a38-a1f8-4e8598d1f5e4",
   "metadata": {},
   "outputs": [],
   "source": [
    "#create temporary view of summer olympics to work with SQL API\n",
    "summerOlympics.createOrReplaceTempView(\"summer_table\")"
   ]
  },
  {
   "cell_type": "code",
   "execution_count": 13,
   "id": "28a07f6b-601f-49bc-b083-b190db12e3ae",
   "metadata": {},
   "outputs": [],
   "source": [
    "#Male registers\n",
    "query=\"\"\"\n",
    "        WITH unique_id AS (\n",
    "            SELECT DISTINCT ID, Sex, Year\n",
    "            FROM summer_table\n",
    "            WHERE Sex == 'M'\n",
    "        )\n",
    "        SELECT year, COUNT(*) AS male_athletes\n",
    "        FROM unique_id\n",
    "        GROUP BY year\n",
    "        ORDER BY year\n",
    "        \"\"\"\n",
    "maleAthlethesPerYear= spark.sql(query)"
   ]
  },
  {
   "cell_type": "code",
   "execution_count": 14,
   "id": "c0018dbc-b35e-432b-9207-7ef765ac50a3",
   "metadata": {},
   "outputs": [
    {
     "name": "stderr",
     "output_type": "stream",
     "text": [
      "                                                                                \r"
     ]
    },
    {
     "data": {
      "text/html": [
       "<table border='1'>\n",
       "<tr><th>year</th><th>male_athletes</th></tr>\n",
       "<tr><td>1896</td><td>176</td></tr>\n",
       "<tr><td>1900</td><td>1201</td></tr>\n",
       "<tr><td>1904</td><td>644</td></tr>\n",
       "<tr><td>1906</td><td>835</td></tr>\n",
       "<tr><td>1908</td><td>1980</td></tr>\n",
       "<tr><td>1912</td><td>2356</td></tr>\n",
       "<tr><td>1920</td><td>2598</td></tr>\n",
       "<tr><td>1924</td><td>3100</td></tr>\n",
       "<tr><td>1928</td><td>2935</td></tr>\n",
       "<tr><td>1932</td><td>1721</td></tr>\n",
       "<tr><td>1936</td><td>4123</td></tr>\n",
       "<tr><td>1948</td><td>3956</td></tr>\n",
       "<tr><td>1952</td><td>4411</td></tr>\n",
       "<tr><td>1956</td><td>2963</td></tr>\n",
       "<tr><td>1960</td><td>4739</td></tr>\n",
       "<tr><td>1964</td><td>4457</td></tr>\n",
       "<tr><td>1968</td><td>4775</td></tr>\n",
       "<tr><td>1972</td><td>6054</td></tr>\n",
       "<tr><td>1976</td><td>4813</td></tr>\n",
       "<tr><td>1980</td><td>4136</td></tr>\n",
       "</table>\n"
      ],
      "text/plain": [
       "+----+-------------+\n",
       "|year|male_athletes|\n",
       "+----+-------------+\n",
       "|1896|          176|\n",
       "|1900|         1201|\n",
       "|1904|          644|\n",
       "|1906|          835|\n",
       "|1908|         1980|\n",
       "|1912|         2356|\n",
       "|1920|         2598|\n",
       "|1924|         3100|\n",
       "|1928|         2935|\n",
       "|1932|         1721|\n",
       "|1936|         4123|\n",
       "|1948|         3956|\n",
       "|1952|         4411|\n",
       "|1956|         2963|\n",
       "|1960|         4739|\n",
       "|1964|         4457|\n",
       "|1968|         4775|\n",
       "|1972|         6054|\n",
       "|1976|         4813|\n",
       "|1980|         4136|\n",
       "+----+-------------+"
      ]
     },
     "execution_count": 14,
     "metadata": {},
     "output_type": "execute_result"
    }
   ],
   "source": [
    "maleAthlethesPerYear.limit(20)"
   ]
  },
  {
   "cell_type": "code",
   "execution_count": 15,
   "id": "7f501099-d4b9-4830-a40f-c62c67acedce",
   "metadata": {},
   "outputs": [
    {
     "name": "stderr",
     "output_type": "stream",
     "text": [
      "                                                                                \r"
     ]
    }
   ],
   "source": [
    "maleAthlethesPerYear_pd = maleAthlethesPerYear.toPandas() #convert to pandas dataframe"
   ]
  },
  {
   "cell_type": "code",
   "execution_count": 16,
   "id": "c7933544-82c0-4c68-ac58-d999fbcb8ef3",
   "metadata": {},
   "outputs": [],
   "source": [
    "#Female registers\n",
    "query=\"\"\"\n",
    "        WITH unique_id AS (\n",
    "            SELECT DISTINCT ID, Sex, Year\n",
    "            FROM summer_table\n",
    "            WHERE Sex == 'F'\n",
    "        )\n",
    "        SELECT year, COUNT(*) AS female_athletes\n",
    "        FROM unique_id\n",
    "        GROUP BY year\n",
    "        ORDER BY year\n",
    "        \"\"\"\n",
    "femaleAthlethesPerYear= spark.sql(query)"
   ]
  },
  {
   "cell_type": "code",
   "execution_count": 17,
   "id": "f4be56e3-7d3c-4d4c-927a-cd187344a2a7",
   "metadata": {},
   "outputs": [
    {
     "data": {
      "text/html": [
       "<table border='1'>\n",
       "<tr><th>year</th><th>female_athletes</th></tr>\n",
       "<tr><td>1900</td><td>23</td></tr>\n",
       "<tr><td>1904</td><td>6</td></tr>\n",
       "<tr><td>1906</td><td>6</td></tr>\n",
       "<tr><td>1908</td><td>44</td></tr>\n",
       "<tr><td>1912</td><td>53</td></tr>\n",
       "<tr><td>1920</td><td>78</td></tr>\n",
       "<tr><td>1924</td><td>156</td></tr>\n",
       "<tr><td>1928</td><td>312</td></tr>\n",
       "<tr><td>1932</td><td>201</td></tr>\n",
       "<tr><td>1936</td><td>361</td></tr>\n",
       "<tr><td>1948</td><td>446</td></tr>\n",
       "<tr><td>1952</td><td>521</td></tr>\n",
       "<tr><td>1956</td><td>384</td></tr>\n",
       "<tr><td>1960</td><td>613</td></tr>\n",
       "<tr><td>1964</td><td>680</td></tr>\n",
       "<tr><td>1968</td><td>783</td></tr>\n",
       "<tr><td>1972</td><td>1060</td></tr>\n",
       "<tr><td>1976</td><td>1260</td></tr>\n",
       "<tr><td>1980</td><td>1123</td></tr>\n",
       "<tr><td>1984</td><td>1569</td></tr>\n",
       "</table>\n"
      ],
      "text/plain": [
       "+----+---------------+\n",
       "|year|female_athletes|\n",
       "+----+---------------+\n",
       "|1900|             23|\n",
       "|1904|              6|\n",
       "|1906|              6|\n",
       "|1908|             44|\n",
       "|1912|             53|\n",
       "|1920|             78|\n",
       "|1924|            156|\n",
       "|1928|            312|\n",
       "|1932|            201|\n",
       "|1936|            361|\n",
       "|1948|            446|\n",
       "|1952|            521|\n",
       "|1956|            384|\n",
       "|1960|            613|\n",
       "|1964|            680|\n",
       "|1968|            783|\n",
       "|1972|           1060|\n",
       "|1976|           1260|\n",
       "|1980|           1123|\n",
       "|1984|           1569|\n",
       "+----+---------------+"
      ]
     },
     "execution_count": 17,
     "metadata": {},
     "output_type": "execute_result"
    }
   ],
   "source": [
    "femaleAthlethesPerYear.limit(20)"
   ]
  },
  {
   "cell_type": "code",
   "execution_count": 18,
   "id": "413ab1e8-547f-40e9-9946-48fa412a9d06",
   "metadata": {},
   "outputs": [
    {
     "name": "stderr",
     "output_type": "stream",
     "text": [
      "                                                                                \r"
     ]
    }
   ],
   "source": [
    "femaleAthlethesPerYear_pd = femaleAthlethesPerYear.toPandas() #convert to pandas dataframe"
   ]
  },
  {
   "cell_type": "code",
   "execution_count": 19,
   "id": "9007745f-1720-4235-be9f-ab0fac461b38",
   "metadata": {},
   "outputs": [
    {
     "data": {
      "image/png": "[encoded data removed]",
      "text/plain": [
       "<Figure size 640x480 with 1 Axes>"
      ]
     },
     "metadata": {},
     "output_type": "display_data"
    }
   ],
   "source": [
    "plt.plot(maleAthlethesPerYear_pd[\"year\"], maleAthlethesPerYear_pd[\"male_athletes\"], label='Male Athletes')\n",
    "plt.plot(femaleAthlethesPerYear_pd[\"year\"], femaleAthlethesPerYear_pd[\"female_athletes\"], label='Female Athletes')\n",
    "plt.xlabel(\"Year\")\n",
    "plt.ylabel(\"Number of Athletes\")\n",
    "plt.legend()\n",
    "plt.grid()\n",
    "plt.show()"
   ]
  },
  {
   "cell_type": "markdown",
   "id": "b33db41b-481d-476f-a69f-58b5563fc49b",
   "metadata": {},
   "source": [
    "# Top 3 countries with more medals"
   ]
  },
  {
   "cell_type": "code",
   "execution_count": 20,
   "id": "c65fabef-7ec3-4ee1-9c61-e01eca784b0a",
   "metadata": {
    "tags": []
   },
   "outputs": [],
   "source": [
    "#create a new dataframe only with the registers of medal winner athletes \n",
    "summerMedals = summerOlympics.where(summerOlympics.Medal != \"NA\")\n",
    "\n",
    "#create temporary view of summer olympics with medal winners athletes to work with SQL API\n",
    "summerMedals.createOrReplaceTempView(\"medals_table\")"
   ]
  },
  {
   "cell_type": "code",
   "execution_count": 21,
   "id": "97bd2bfa-b928-4a64-a1b9-e5b7307d96be",
   "metadata": {
    "tags": []
   },
   "outputs": [
    {
     "data": {
      "text/html": [
       "<table border='1'>\n",
       "<tr><th>NOC</th><th>totalNumberMedals</th></tr>\n",
       "<tr><td>USA</td><td>5002</td></tr>\n",
       "<tr><td>URS</td><td>2063</td></tr>\n",
       "<tr><td>GBR</td><td>1985</td></tr>\n",
       "</table>\n"
      ],
      "text/plain": [
       "+---+-----------------+\n",
       "|NOC|totalNumberMedals|\n",
       "+---+-----------------+\n",
       "|USA|             5002|\n",
       "|URS|             2063|\n",
       "|GBR|             1985|\n",
       "+---+-----------------+"
      ]
     },
     "execution_count": 21,
     "metadata": {},
     "output_type": "execute_result"
    }
   ],
   "source": [
    "#Count medals per country\n",
    "query=\"\"\"\n",
    "        SELECT NOC, COUNT(*) AS totalNumberMedals\n",
    "        FROM medals_table\n",
    "        GROUP BY NOC\n",
    "        ORDER BY totalNumberMedals DESC\n",
    "        \"\"\"\n",
    "spark.sql(query).limit(3)"
   ]
  },
  {
   "cell_type": "code",
   "execution_count": 22,
   "id": "7e8b834d-cf5f-43a8-b564-53fcfb7ff757",
   "metadata": {
    "tags": []
   },
   "outputs": [],
   "source": [
    "query= \"\"\"\n",
    "    SELECT NOC, Medal, COUNT(*) as MedalCount\n",
    "    FROM medals_table\n",
    "    WHERE NOC IN ('USA', 'URS', 'GBR')\n",
    "    GROUP BY NOC, Medal;\n",
    "    \"\"\"\n",
    "medalsPerCountry_pd=spark.sql(query).toPandas()"
   ]
  },
  {
   "cell_type": "code",
   "execution_count": 23,
   "id": "fa720cad-7957-4bc3-a987-e2e68c6fd470",
   "metadata": {
    "tags": []
   },
   "outputs": [
    {
     "data": {
      "text/html": [
       "<div>\n",
       "<style scoped>\n",
       "    .dataframe tbody tr th:only-of-type {\n",
       "        vertical-align: middle;\n",
       "    }\n",
       "\n",
       "    .dataframe tbody tr th {\n",
       "        vertical-align: top;\n",
       "    }\n",
       "\n",
       "    .dataframe thead th {\n",
       "        text-align: right;\n",
       "    }\n",
       "</style>\n",
       "<table border=\"1\" class=\"dataframe\">\n",
       "  <thead>\n",
       "    <tr style=\"text-align: right;\">\n",
       "      <th></th>\n",
       "      <th>NOC</th>\n",
       "      <th>Medal</th>\n",
       "      <th>MedalCount</th>\n",
       "    </tr>\n",
       "  </thead>\n",
       "  <tbody>\n",
       "    <tr>\n",
       "      <th>0</th>\n",
       "      <td>URS</td>\n",
       "      <td>Gold</td>\n",
       "      <td>832</td>\n",
       "    </tr>\n",
       "    <tr>\n",
       "      <th>1</th>\n",
       "      <td>GBR</td>\n",
       "      <td>Silver</td>\n",
       "      <td>729</td>\n",
       "    </tr>\n",
       "    <tr>\n",
       "      <th>2</th>\n",
       "      <td>URS</td>\n",
       "      <td>Bronze</td>\n",
       "      <td>596</td>\n",
       "    </tr>\n",
       "    <tr>\n",
       "      <th>3</th>\n",
       "      <td>GBR</td>\n",
       "      <td>Bronze</td>\n",
       "      <td>620</td>\n",
       "    </tr>\n",
       "    <tr>\n",
       "      <th>4</th>\n",
       "      <td>GBR</td>\n",
       "      <td>Gold</td>\n",
       "      <td>636</td>\n",
       "    </tr>\n",
       "    <tr>\n",
       "      <th>5</th>\n",
       "      <td>USA</td>\n",
       "      <td>Silver</td>\n",
       "      <td>1333</td>\n",
       "    </tr>\n",
       "    <tr>\n",
       "      <th>6</th>\n",
       "      <td>URS</td>\n",
       "      <td>Silver</td>\n",
       "      <td>635</td>\n",
       "    </tr>\n",
       "    <tr>\n",
       "      <th>7</th>\n",
       "      <td>USA</td>\n",
       "      <td>Bronze</td>\n",
       "      <td>1197</td>\n",
       "    </tr>\n",
       "    <tr>\n",
       "      <th>8</th>\n",
       "      <td>USA</td>\n",
       "      <td>Gold</td>\n",
       "      <td>2472</td>\n",
       "    </tr>\n",
       "  </tbody>\n",
       "</table>\n",
       "</div>"
      ],
      "text/plain": [
       "   NOC   Medal  MedalCount\n",
       "0  URS    Gold         832\n",
       "1  GBR  Silver         729\n",
       "2  URS  Bronze         596\n",
       "3  GBR  Bronze         620\n",
       "4  GBR    Gold         636\n",
       "5  USA  Silver        1333\n",
       "6  URS  Silver         635\n",
       "7  USA  Bronze        1197\n",
       "8  USA    Gold        2472"
      ]
     },
     "execution_count": 23,
     "metadata": {},
     "output_type": "execute_result"
    }
   ],
   "source": [
    "medalsPerCountry_pd"
   ]
  },
  {
   "cell_type": "code",
   "execution_count": 24,
   "id": "cef956ba-bc34-4d77-a60f-740adb6393b0",
   "metadata": {
    "tags": []
   },
   "outputs": [],
   "source": [
    "# Filter dataframe for each country\n",
    "us_medals = medalsPerCountry_pd[medalsPerCountry_pd['NOC'] == 'USA']\n",
    "soviet_medals = medalsPerCountry_pd[medalsPerCountry_pd['NOC'] == 'URS']\n",
    "uk_medals = medalsPerCountry_pd[medalsPerCountry_pd['NOC'] == 'GBR']\n",
    "\n",
    "# Extract medal counts into lists\n",
    "gold = [us_medals[us_medals['Medal'] == 'Gold']['MedalCount'].values[0],\n",
    "        soviet_medals[soviet_medals['Medal'] == 'Gold']['MedalCount'].values[0],\n",
    "        uk_medals[uk_medals['Medal'] == 'Gold']['MedalCount'].values[0]]\n",
    "\n",
    "silver = [us_medals[us_medals['Medal'] == 'Silver']['MedalCount'].values[0],\n",
    "          soviet_medals[soviet_medals['Medal'] == 'Silver']['MedalCount'].values[0],\n",
    "          uk_medals[uk_medals['Medal'] == 'Silver']['MedalCount'].values[0]]\n",
    "\n",
    "bronze = [us_medals[us_medals['Medal'] == 'Bronze']['MedalCount'].values[0],\n",
    "          soviet_medals[soviet_medals['Medal'] == 'Bronze']['MedalCount'].values[0],\n",
    "          uk_medals[uk_medals['Medal'] == 'Bronze']['MedalCount'].values[0]]"
   ]
  },
  {
   "cell_type": "code",
   "execution_count": 25,
   "id": "15531295-65a3-4083-aa11-32b0102473ba",
   "metadata": {
    "tags": []
   },
   "outputs": [
    {
     "data": {
      "image/png": "[encoded data removed]",
      "text/plain": [
       "<Figure size 640x480 with 1 Axes>"
      ]
     },
     "metadata": {},
     "output_type": "display_data"
    }
   ],
   "source": [
    "import numpy as np \n",
    "import matplotlib.pyplot as plt \n",
    "\n",
    "X = ['United States','Soviet Union','United Kingdom'] \n",
    "goldMedals = gold \n",
    "silverMedals = silver\n",
    "bronzeMedals = bronze\n",
    "\n",
    "X_axis = np.arange(len(X)) \n",
    "\n",
    "plt.bar(X_axis - 0.2, goldMedals, 0.2, color ='gold', label = 'Gold') \n",
    "plt.bar(X_axis, silverMedals, 0.2, color ='silver', label = 'Silver') \n",
    "plt.bar(X_axis + 0.2, bronzeMedals, 0.2, color ='#cd7f32', label = 'Bronze') \n",
    "\n",
    "plt.xticks(X_axis, X) \n",
    "plt.xlabel(\"Countries\") \n",
    "plt.ylabel(\"Number of Medals\") \n",
    "plt.title(\"Top 3 medal winner countries\") \n",
    "plt.legend() \n",
    "plt.show()"
   ]
  },
  {
   "cell_type": "markdown",
   "id": "738b3391-78a6-4692-9e1f-4d3ef0ff3e47",
   "metadata": {},
   "source": [
    "# Countries that haven't won a medal until 2020 games"
   ]
  },
  {
   "cell_type": "code",
   "execution_count": 26,
   "id": "1fc181db-a337-4483-b095-2be5e80b4688",
   "metadata": {
    "tags": []
   },
   "outputs": [],
   "source": [
    "query= \"\"\"\n",
    "    \n",
    "    --Select all disctinct countries in the dataset\n",
    "    WITH allCountries AS(\n",
    "    SELECT DISTINCT NOC\n",
    "    FROM summer_table\n",
    "    ),\n",
    "    \n",
    "    --Select the disctinct winner medal countries in the dataset\n",
    "    winnerCountries AS(\n",
    "    SELECT DISTINCT NOC\n",
    "    FROM medals_table\n",
    "    )\n",
    "    \n",
    "    --Substarct the winner medal countries to the all countries dataset to obtain the non-winners\n",
    "    SELECT allCountries.NOC \n",
    "    FROM allCountries\n",
    "    LEFT JOIN winnerCountries\n",
    "        ON allCountries.NOC = winnerCountries.NOC\n",
    "    WHERE winnerCountries.NOC IS NULL;\n",
    "    \"\"\"\n",
    "\n",
    "nonWinnersCountries = spark.sql(query)"
   ]
  },
  {
   "cell_type": "code",
   "execution_count": 27,
   "id": "3bfd60c9-a7ea-4573-96fe-c5c69c7e7c16",
   "metadata": {
    "tags": []
   },
   "outputs": [
    {
     "name": "stderr",
     "output_type": "stream",
     "text": [
      "                                                                                \r"
     ]
    },
    {
     "data": {
      "text/plain": [
       "83"
      ]
     },
     "execution_count": 27,
     "metadata": {},
     "output_type": "execute_result"
    }
   ],
   "source": [
    "nonWinnersCountries.count()"
   ]
  },
  {
   "cell_type": "markdown",
   "id": "7d64f7af-a377-45de-bee6-5f4e47ebf005",
   "metadata": {},
   "source": [
    "There are 83 countries that haven't won a medal until 2020 games"
   ]
  },
  {
   "cell_type": "code",
   "execution_count": 28,
   "id": "05c609a0-aa82-40a5-a87c-1aa08e436cd5",
   "metadata": {},
   "outputs": [],
   "source": [
    "# Creating a list of the schema in the format column_name, data_type of noc_regions\n",
    "labels_noc = [\n",
    "     ('NOC',StringType()),\n",
    "     ('region',StringType()),\n",
    "     ('notes',StringType())\n",
    "]\n",
    "\n",
    "# Creating the schema that will be passed when reading the csv\n",
    "schema_noc = StructType([StructField (x[0], x[1], True) for x in labels_noc])"
   ]
  },
  {
   "cell_type": "code",
   "execution_count": 29,
   "id": "bf9d15b1-6d53-4fa9-ac61-a8e68619efc8",
   "metadata": {
    "tags": []
   },
   "outputs": [],
   "source": [
    "#loading csv\n",
    "nocRegions = spark.read.csv('noc_regions.csv', header=True, sep=\",\", schema=schema_noc)"
   ]
  },
  {
   "cell_type": "code",
   "execution_count": 30,
   "id": "8c49252b-bf56-4bae-81e8-af1adc11387b",
   "metadata": {
    "tags": []
   },
   "outputs": [],
   "source": [
    "#Join with the noc_regions column region to obtain the name of the countries\n",
    "nwc_noc = nonWinnersCountries.join(nocRegions.select('NOC','region'), on='NOC', how='left')               "
   ]
  },
  {
   "cell_type": "markdown",
   "id": "e1d95eb6-b1b0-49fe-9dac-671dfe18a10f",
   "metadata": {},
   "source": [
    "Lets take a look of 20 of those countries"
   ]
  },
  {
   "cell_type": "code",
   "execution_count": 31,
   "id": "cfa0b552-430a-4265-bb98-741b429cd693",
   "metadata": {
    "tags": []
   },
   "outputs": [
    {
     "name": "stderr",
     "output_type": "stream",
     "text": [
      "                                                                                \r"
     ]
    },
    {
     "data": {
      "text/html": [
       "<table border='1'>\n",
       "<tr><th>NOC</th><th>region</th></tr>\n",
       "<tr><td>BUR</td><td>Burkina Faso</td></tr>\n",
       "<tr><td>SOM</td><td>Somalia</td></tr>\n",
       "<tr><td>IVB</td><td>Virgin Islands, B...</td></tr>\n",
       "<tr><td>MAL</td><td>Malaysia</td></tr>\n",
       "<tr><td>COD</td><td>Democratic Republ...</td></tr>\n",
       "<tr><td>FSM</td><td>Micronesia</td></tr>\n",
       "<tr><td>MYA</td><td>Myanmar</td></tr>\n",
       "<tr><td>NEP</td><td>Nepal</td></tr>\n",
       "<tr><td>BOL</td><td>Boliva</td></tr>\n",
       "<tr><td>GEQ</td><td>Equatorial Guinea</td></tr>\n",
       "<tr><td>COM</td><td>Comoros</td></tr>\n",
       "<tr><td>LCA</td><td>Saint Lucia</td></tr>\n",
       "<tr><td>CAM</td><td>Cambodia</td></tr>\n",
       "<tr><td>VAN</td><td>Vanuatu</td></tr>\n",
       "<tr><td>MLI</td><td>Mali</td></tr>\n",
       "<tr><td>MLT</td><td>Malta</td></tr>\n",
       "<tr><td>DMA</td><td>Dominica</td></tr>\n",
       "<tr><td>PNG</td><td>Papua New Guinea</td></tr>\n",
       "<tr><td>YEM</td><td>Yemen</td></tr>\n",
       "<tr><td>SEY</td><td>Seychelles</td></tr>\n",
       "</table>\n"
      ],
      "text/plain": [
       "+---+--------------------+\n",
       "|NOC|              region|\n",
       "+---+--------------------+\n",
       "|BUR|        Burkina Faso|\n",
       "|SOM|             Somalia|\n",
       "|IVB|Virgin Islands, B...|\n",
       "|MAL|            Malaysia|\n",
       "|COD|Democratic Republ...|\n",
       "|FSM|          Micronesia|\n",
       "|MYA|             Myanmar|\n",
       "|NEP|               Nepal|\n",
       "|BOL|              Boliva|\n",
       "|GEQ|   Equatorial Guinea|\n",
       "|COM|             Comoros|\n",
       "|LCA|         Saint Lucia|\n",
       "|CAM|            Cambodia|\n",
       "|VAN|             Vanuatu|\n",
       "|MLI|                Mali|\n",
       "|MLT|               Malta|\n",
       "|DMA|            Dominica|\n",
       "|PNG|    Papua New Guinea|\n",
       "|YEM|               Yemen|\n",
       "|SEY|          Seychelles|\n",
       "+---+--------------------+"
      ]
     },
     "execution_count": 31,
     "metadata": {},
     "output_type": "execute_result"
    }
   ],
   "source": [
    "nwc_noc.limit(20)"
   ]
  }
 ],
 "metadata": {
  "kernelspec": {
   "display_name": "Python 3 (ipykernel)",
   "language": "python",
   "name": "python3"
  },
  "language_info": {
   "codemirror_mode": {
    "name": "ipython",
    "version": 3
   },
   "file_extension": ".py",
   "mimetype": "text/x-python",
   "name": "python",
   "nbconvert_exporter": "python",
   "pygments_lexer": "ipython3",
   "version": "3.10.12"
  }
 },
 "nbformat": 4,
 "nbformat_minor": 5
}
